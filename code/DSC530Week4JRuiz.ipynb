{
 "cells": [
  {
   "cell_type": "code",
   "execution_count": 1,
   "id": "attended-failure",
   "metadata": {},
   "outputs": [],
   "source": [
    "from __future__ import print_function, division\n",
    "\n",
    "%matplotlib inline\n",
    "\n",
    "import numpy as np\n",
    "\n",
    "import nsfg\n",
    "import first\n",
    "import thinkstats2\n",
    "import thinkplot"
   ]
  },
  {
   "cell_type": "markdown",
   "id": "sized-frederick",
   "metadata": {},
   "source": [
    "# Chapter 3"
   ]
  },
  {
   "cell_type": "code",
   "execution_count": 2,
   "id": "direct-nature",
   "metadata": {},
   "outputs": [],
   "source": [
    "resp = nsfg.ReadFemResp()"
   ]
  },
  {
   "cell_type": "code",
   "execution_count": 3,
   "id": "national-syndication",
   "metadata": {},
   "outputs": [],
   "source": [
    "def BiasPmf(pmf, label):\n",
    "    new_pmf = pmf.Copy(label=label)\n",
    "\n",
    "    for x, p in pmf.Items():\n",
    "        new_pmf.Mult(x, x)\n",
    "        \n",
    "    new_pmf.Normalize()\n",
    "    return new_pmf"
   ]
  },
  {
   "cell_type": "code",
   "execution_count": 4,
   "id": "orange-combat",
   "metadata": {},
   "outputs": [
    {
     "data": {
      "text/plain": [
       "Pmf({0: 0.466178202276593, 1: 0.21405207379301322, 2: 0.19625801386889966, 3: 0.08713855815779145, 4: 0.025644380478869556, 5: 0.01072877142483318}, 'numkdhh')"
      ]
     },
     "execution_count": 4,
     "metadata": {},
     "output_type": "execute_result"
    }
   ],
   "source": [
    "under_18 = thinkstats2.Pmf(resp.numkdhh, label='numkdhh')\n",
    "under_18\n"
   ]
  },
  {
   "cell_type": "code",
   "execution_count": 5,
   "id": "alternative-reduction",
   "metadata": {},
   "outputs": [
    {
     "data": {
      "image/png": "[encoded data removed]",
      "text/plain": [
       "<Figure size 432x288 with 1 Axes>"
      ]
     },
     "metadata": {
      "needs_background": "light"
     },
     "output_type": "display_data"
    }
   ],
   "source": [
    "thinkplot.Pmf(under_18)\n",
    "thinkplot.Config(xlabel='Under 18', ylabel='PMF')"
   ]
  },
  {
   "cell_type": "code",
   "execution_count": 6,
   "id": "cathedral-vietnam",
   "metadata": {},
   "outputs": [
    {
     "data": {
      "image/png": "[encoded data removed]",
      "text/plain": [
       "<Figure size 432x288 with 1 Axes>"
      ]
     },
     "metadata": {
      "needs_background": "light"
     },
     "output_type": "display_data"
    }
   ],
   "source": [
    "biased_pmf_under18 = BiasPmf(under_18, label='observed biased')\n",
    "thinkplot.PrePlot(2)\n",
    "thinkplot.Pmfs([under_18, biased_pmf_under18])\n",
    "thinkplot.Config(xlabel='Class size', ylabel='PMF')"
   ]
  },
  {
   "cell_type": "code",
   "execution_count": 7,
   "id": "employed-closing",
   "metadata": {},
   "outputs": [
    {
     "data": {
      "text/plain": [
       "1.024205155043831"
      ]
     },
     "execution_count": 7,
     "metadata": {},
     "output_type": "execute_result"
    }
   ],
   "source": [
    "under_18.Mean()\n"
   ]
  },
  {
   "cell_type": "code",
   "execution_count": 8,
   "id": "studied-latin",
   "metadata": {},
   "outputs": [
    {
     "data": {
      "text/plain": [
       "2.403679100664282"
      ]
     },
     "execution_count": 8,
     "metadata": {},
     "output_type": "execute_result"
    }
   ],
   "source": [
    "biased_pmf_under18.Mean()"
   ]
  },
  {
   "cell_type": "code",
   "execution_count": 9,
   "id": "higher-colombia",
   "metadata": {},
   "outputs": [],
   "source": [
    "def pmfmean(pmf):\n",
    "\n",
    "    mean = 0.0\n",
    "    #iterate throught the dict p(i) * x(i)\n",
    "    for index,value in pmf.Items():\n",
    "        \n",
    "      \n",
    "        mean +=  index * value\n",
    "    return mean\n"
   ]
  },
  {
   "cell_type": "code",
   "execution_count": 10,
   "id": "loose-notification",
   "metadata": {},
   "outputs": [
    {
     "name": "stdout",
     "output_type": "stream",
     "text": [
      "1.024205155043831\n"
     ]
    }
   ],
   "source": [
    "pmfmean2 = under_18.Mean()\n",
    "print(pmfmean2)"
   ]
  },
  {
   "cell_type": "code",
   "execution_count": 11,
   "id": "sporting-conversion",
   "metadata": {},
   "outputs": [
    {
     "data": {
      "text/plain": [
       "1.024205155043831"
      ]
     },
     "execution_count": 11,
     "metadata": {},
     "output_type": "execute_result"
    }
   ],
   "source": [
    "pmfmean(under_18)"
   ]
  },
  {
   "cell_type": "code",
   "execution_count": 12,
   "id": "fancy-starter",
   "metadata": {},
   "outputs": [],
   "source": [
    "def pmfvar(pmf, mean):\n",
    "\n",
    "    var = 0\n",
    "    #iterate throught the dict p(i) * x(i)\n",
    "    for index,value in pmf.Items():\n",
    "        \n",
    "      \n",
    "       var += value * ((index - mean)**2)\n",
    "    return var\n"
   ]
  },
  {
   "cell_type": "code",
   "execution_count": 13,
   "id": "union-trust",
   "metadata": {},
   "outputs": [
    {
     "data": {
      "text/plain": [
       "1.4128643263531195"
      ]
     },
     "execution_count": 13,
     "metadata": {},
     "output_type": "execute_result"
    }
   ],
   "source": [
    "pmfvar(under_18, pmfmean2)"
   ]
  },
  {
   "cell_type": "code",
   "execution_count": 14,
   "id": "hundred-millennium",
   "metadata": {},
   "outputs": [
    {
     "data": {
      "text/plain": [
       "1.4128643263531195"
      ]
     },
     "execution_count": 14,
     "metadata": {},
     "output_type": "execute_result"
    }
   ],
   "source": [
    "under_18.Var()"
   ]
  },
  {
   "cell_type": "markdown",
   "id": "removed-workstation",
   "metadata": {},
   "source": [
    "# Chapter 4"
   ]
  },
  {
   "cell_type": "code",
   "execution_count": 15,
   "id": "complimentary-spotlight",
   "metadata": {},
   "outputs": [],
   "source": [
    "live, firsts, others = first.MakeFrames()"
   ]
  },
  {
   "cell_type": "code",
   "execution_count": null,
   "id": "appropriate-anthony",
   "metadata": {},
   "outputs": [],
   "source": []
  },
  {
   "cell_type": "code",
   "execution_count": null,
   "id": "vanilla-bidding",
   "metadata": {},
   "outputs": [],
   "source": []
  },
  {
   "cell_type": "code",
   "execution_count": 16,
   "id": "several-qatar",
   "metadata": {},
   "outputs": [],
   "source": [
    "def PercentileRank(scores, your_score):\n",
    "    count = 0\n",
    "    for score in scores:\n",
    "        if score <= your_score:\n",
    "            count += 1\n",
    "\n",
    "    percentile_rank = 100.0 * count / len(scores)\n",
    "    return percentile_rank"
   ]
  },
  {
   "cell_type": "code",
   "execution_count": 17,
   "id": "surprised-waste",
   "metadata": {},
   "outputs": [
    {
     "data": {
      "text/plain": [
       "6.4625131995776135"
      ]
     },
     "execution_count": 17,
     "metadata": {},
     "output_type": "execute_result"
    }
   ],
   "source": [
    "PercentileRank(others.totalwgt_lb, 5.3)"
   ]
  },
  {
   "cell_type": "markdown",
   "id": "entitled-bahrain",
   "metadata": {},
   "source": [
    "# I was a premature baby"
   ]
  },
  {
   "cell_type": "markdown",
   "id": "exclusive-instrumentation",
   "metadata": {},
   "source": [
    "Generate 1000 numbers from numpy.random.random and plot their PMF. What goes wrong?\n",
    "\n"
   ]
  },
  {
   "cell_type": "code",
   "execution_count": 18,
   "id": "indoor-healthcare",
   "metadata": {},
   "outputs": [],
   "source": [
    "numbers = np.random.random(1000)"
   ]
  },
  {
   "cell_type": "code",
   "execution_count": 19,
   "id": "resident-dialogue",
   "metadata": {},
   "outputs": [],
   "source": [
    "pmfRan = thinkstats2.Pmf(numbers, label='1000 random')"
   ]
  },
  {
   "cell_type": "code",
   "execution_count": 20,
   "id": "current-petite",
   "metadata": {},
   "outputs": [
    {
     "data": {
      "image/png": "[encoded data removed]",
      "text/plain": [
       "<Figure size 432x288 with 1 Axes>"
      ]
     },
     "metadata": {
      "needs_background": "light"
     },
     "output_type": "display_data"
    }
   ],
   "source": [
    "thinkplot.Pmf(pmfRan)\n",
    "thinkplot.Config(xlabel='Random Numbers', ylabel='Pmf')"
   ]
  },
  {
   "cell_type": "markdown",
   "id": "royal-tonight",
   "metadata": {},
   "source": [
    "The values are close to same probality, because randoming pick number has \n",
    "0 to 10, I think. Random chance to picked, same idea with dice, if rolled 1000 time 1 to 6 would have same look. "
   ]
  },
  {
   "cell_type": "code",
   "execution_count": 21,
   "id": "enormous-foundation",
   "metadata": {},
   "outputs": [
    {
     "name": "stdout",
     "output_type": "stream",
     "text": [
      "Object `uniform` not found.\n"
     ]
    }
   ],
   "source": [
    "Now plot the CDF. Is the distribution uniform?"
   ]
  },
  {
   "cell_type": "code",
   "execution_count": null,
   "id": "adjusted-softball",
   "metadata": {},
   "outputs": [],
   "source": [
    "Now plot the CDF. Is the distribution uniform"
   ]
  },
  {
   "cell_type": "code",
   "execution_count": 22,
   "id": "painted-black",
   "metadata": {},
   "outputs": [],
   "source": [
    "random_cdf = thinkstats2.Cdf(numbers, label='Random')"
   ]
  },
  {
   "cell_type": "code",
   "execution_count": 23,
   "id": "backed-failing",
   "metadata": {},
   "outputs": [
    {
     "data": {
      "image/png": "[encoded data removed]",
      "text/plain": [
       "<Figure size 432x288 with 1 Axes>"
      ]
     },
     "metadata": {
      "needs_background": "light"
     },
     "output_type": "display_data"
    }
   ],
   "source": [
    "thinkplot.Cdf(random_cdf)\n",
    "thinkplot.Config(xlabel='Percentile rank', ylabel='CDF')"
   ]
  },
  {
   "cell_type": "markdown",
   "id": "wrong-tourism",
   "metadata": {},
   "source": [
    "Yes the CDF is uniform, becuase it goes by IQR and are data has rank 10 being highest, and 0 being the lowest, with equal chance of randome pulling number from the sample the rank is uniformally."
   ]
  }
 ],
 "metadata": {
  "kernelspec": {
   "display_name": "Python 3",
   "language": "python",
   "name": "python3"
  },
  "language_info": {
   "codemirror_mode": {
    "name": "ipython",
    "version": 3
   },
   "file_extension": ".py",
   "mimetype": "text/x-python",
   "name": "python",
   "nbconvert_exporter": "python",
   "pygments_lexer": "ipython3",
   "version": "3.7.10"
  }
 },
 "nbformat": 4,
 "nbformat_minor": 5
}
