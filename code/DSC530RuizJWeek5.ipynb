{
 "cells": [
  {
   "cell_type": "markdown",
   "id": "alternate-customer",
   "metadata": {},
   "source": [
    "# 5.1"
   ]
  },
  {
   "cell_type": "code",
   "execution_count": 1,
   "id": "still-filter",
   "metadata": {},
   "outputs": [],
   "source": [
    "import scipy.stats\n",
    "import numpy as np\n",
    "\n"
   ]
  },
  {
   "cell_type": "code",
   "execution_count": 2,
   "id": "damaged-holly",
   "metadata": {},
   "outputs": [
    {
     "data": {
      "text/plain": [
       "scipy.stats._distn_infrastructure.rv_frozen"
      ]
     },
     "execution_count": 2,
     "metadata": {},
     "output_type": "execute_result"
    }
   ],
   "source": [
    "mu = 178\n",
    "sigma = 7.7\n",
    "dist = scipy.stats.norm(loc=mu, scale=sigma)\n",
    "type(dist)"
   ]
  },
  {
   "cell_type": "code",
   "execution_count": 3,
   "id": "preliminary-vitamin",
   "metadata": {},
   "outputs": [
    {
     "data": {
      "text/plain": [
       "(178.0, 7.7)"
      ]
     },
     "execution_count": 3,
     "metadata": {},
     "output_type": "execute_result"
    }
   ],
   "source": [
    "#dist.mean(), dist.std() #we enter this"
   ]
  },
  {
   "cell_type": "code",
   "execution_count": 4,
   "id": "usual-quality",
   "metadata": {},
   "outputs": [
    {
     "data": {
      "text/plain": [
       "0.1586552539314574"
      ]
     },
     "execution_count": 4,
     "metadata": {},
     "output_type": "execute_result"
    }
   ],
   "source": [
    "dist.cdf(mu-sigma)\n"
   ]
  },
  {
   "cell_type": "code",
   "execution_count": 5,
   "id": "noticed-dinner",
   "metadata": {},
   "outputs": [
    {
     "data": {
      "text/plain": [
       "0.1586552539314574"
      ]
     },
     "execution_count": 5,
     "metadata": {},
     "output_type": "execute_result"
    }
   ],
   "source": [
    "#dist.cdf(178.0-7.7)"
   ]
  },
  {
   "cell_type": "code",
   "execution_count": 6,
   "id": "popular-dominant",
   "metadata": {},
   "outputs": [
    {
     "data": {
      "text/plain": [
       "0.48963902786483265"
      ]
     },
     "execution_count": 6,
     "metadata": {},
     "output_type": "execute_result"
    }
   ],
   "source": [
    "# 5 10 = 177.8\n",
    "dist.cdf(177.8)\n",
    "# 5 11 = 180.34 \n",
    "#dist.cdf(180.34)\n",
    "\n"
   ]
  },
  {
   "cell_type": "code",
   "execution_count": 7,
   "id": "effective-raleigh",
   "metadata": {},
   "outputs": [
    {
     "data": {
      "text/plain": [
       "0.8323858654963063"
      ]
     },
     "execution_count": 7,
     "metadata": {},
     "output_type": "execute_result"
    }
   ],
   "source": [
    "# 6 1 = 185.42\n",
    "dist.cdf(185.42)\n"
   ]
  },
  {
   "cell_type": "code",
   "execution_count": 8,
   "id": "preceding-tunisia",
   "metadata": {},
   "outputs": [
    {
     "data": {
      "text/plain": [
       "0.3427468376314737"
      ]
     },
     "execution_count": 8,
     "metadata": {},
     "output_type": "execute_result"
    }
   ],
   "source": [
    "range_blueMan =  (dist.cdf(185.42) - dist.cdf(177.8) )\n",
    "range_blueMan"
   ]
  },
  {
   "cell_type": "markdown",
   "id": "attempted-ocean",
   "metadata": {},
   "source": [
    "34% percent of the population fit the hieght, and 66% can't be in blue man group due the hieght restricton. "
   ]
  },
  {
   "cell_type": "markdown",
   "id": "popular-production",
   "metadata": {},
   "source": [
    "# 5.2"
   ]
  },
  {
   "cell_type": "code",
   "execution_count": 9,
   "id": "floral-boulder",
   "metadata": {},
   "outputs": [],
   "source": [
    "from __future__ import print_function, division\n",
    "\n",
    "%matplotlib inline\n",
    "\n",
    "\n",
    "\n",
    "\n",
    "import thinkstats2\n",
    "import thinkplot"
   ]
  },
  {
   "cell_type": "code",
   "execution_count": 10,
   "id": "cellular-check",
   "metadata": {},
   "outputs": [
    {
     "data": {
      "text/plain": [
       "1.5034066538560549"
      ]
     },
     "execution_count": 10,
     "metadata": {},
     "output_type": "execute_result"
    }
   ],
   "source": [
    "alpha = 1.7\n",
    "xmin = 1       # meter\n",
    "distPar = scipy.stats.pareto(b=alpha, scale=xmin)\n",
    "distPar.median()"
   ]
  },
  {
   "cell_type": "code",
   "execution_count": 11,
   "id": "severe-israel",
   "metadata": {},
   "outputs": [
    {
     "data": {
      "image/png": "[encoded data removed]",
      "text/plain": [
       "<Figure size 432x288 with 1 Axes>"
      ]
     },
     "metadata": {
      "needs_background": "light"
     },
     "output_type": "display_data"
    }
   ],
   "source": [
    "for alpha in [alpha]:\n",
    "    xs, ps = thinkstats2.RenderParetoCdf(xmin, alpha, 1, 10.0, n=10000) \n",
    "    thinkplot.Plot(xs, ps, label= \"alpha\")\n",
    "    \n",
    "thinkplot.Config(title='Pareto CDF', xlabel='x',\n",
    "                 ylabel='CDF', loc='lower right')"
   ]
  },
  {
   "cell_type": "code",
   "execution_count": 12,
   "id": "moved-membrane",
   "metadata": {},
   "outputs": [
    {
     "data": {
      "text/plain": [
       "2.428571428571429"
      ]
     },
     "execution_count": 12,
     "metadata": {},
     "output_type": "execute_result"
    }
   ],
   "source": [
    "distPar.mean()"
   ]
  },
  {
   "cell_type": "code",
   "execution_count": 13,
   "id": "mineral-saturday",
   "metadata": {},
   "outputs": [
    {
     "data": {
      "text/plain": [
       "1.0"
      ]
     },
     "execution_count": 13,
     "metadata": {},
     "output_type": "execute_result"
    }
   ],
   "source": [
    "distPar.cdf(10000000000000000000)\n"
   ]
  },
  {
   "cell_type": "markdown",
   "id": "australian-banana",
   "metadata": {},
   "source": [
    "If I think this is cdf rank I need to add 10 zeros to get top rank, no one is that tell"
   ]
  },
  {
   "cell_type": "markdown",
   "id": "oriental-interface",
   "metadata": {},
   "source": [
    "Tmhe tallest person by the pareto would be 1000000000000"
   ]
  },
  {
   "cell_type": "markdown",
   "id": "seasonal-terrace",
   "metadata": {},
   "source": [
    "How many are taller than the mean height, I don't think someone will be 1km m"
   ]
  },
  {
   "cell_type": "code",
   "execution_count": 14,
   "id": "alike-student",
   "metadata": {},
   "outputs": [
    {
     "data": {
      "text/plain": [
       "1547274523.9812176"
      ]
     },
     "execution_count": 14,
     "metadata": {},
     "output_type": "execute_result"
    }
   ],
   "source": [
    "(1 - distPar.cdf(2.43))* 7000000000\n",
    "#distPar.Value(1)"
   ]
  },
  {
   "cell_type": "code",
   "execution_count": 15,
   "id": "completed-vertical",
   "metadata": {},
   "outputs": [
    {
     "data": {
      "text/plain": [
       "0.7789607822883975"
      ]
     },
     "execution_count": 15,
     "metadata": {},
     "output_type": "execute_result"
    }
   ],
   "source": [
    "distPar.cdf(2.43)"
   ]
  },
  {
   "cell_type": "markdown",
   "id": "liable-capitol",
   "metadata": {},
   "source": [
    "# 6.1"
   ]
  },
  {
   "cell_type": "code",
   "execution_count": 16,
   "id": "furnished-spelling",
   "metadata": {},
   "outputs": [],
   "source": [
    "def RawMoment(xs, k):\n",
    "    return sum(x**k for x in xs) / len(xs)"
   ]
  },
  {
   "cell_type": "code",
   "execution_count": 17,
   "id": "detailed-strategy",
   "metadata": {},
   "outputs": [],
   "source": [
    "def Mean(xs):\n",
    "    return RawMoment(xs, 1)"
   ]
  },
  {
   "cell_type": "code",
   "execution_count": 18,
   "id": "ruled-rabbit",
   "metadata": {},
   "outputs": [],
   "source": [
    "def StandardizedMoment(xs, k):\n",
    "    var = CentralMoment(xs, 2)\n",
    "    std = np.sqrt(var)\n",
    "    return CentralMoment(xs, k) / std**k"
   ]
  },
  {
   "cell_type": "code",
   "execution_count": 19,
   "id": "charged-creativity",
   "metadata": {},
   "outputs": [],
   "source": [
    "def CentralMoment(xs, k):\n",
    "    mean = RawMoment(xs, 1)\n",
    "    return sum((x - mean)**k for x in xs) / len(xs)"
   ]
  },
  {
   "cell_type": "code",
   "execution_count": 20,
   "id": "lightweight-circle",
   "metadata": {},
   "outputs": [],
   "source": [
    "def Median(xs):\n",
    "    cdf = thinkstats2.Cdf(xs)\n",
    "    return cdf.Value(0.5)"
   ]
  },
  {
   "cell_type": "code",
   "execution_count": 21,
   "id": "future-coupon",
   "metadata": {},
   "outputs": [],
   "source": [
    "def Skewness(xs):\n",
    "    return StandardizedMoment(xs, 3)"
   ]
  },
  {
   "cell_type": "code",
   "execution_count": 22,
   "id": "imported-exchange",
   "metadata": {},
   "outputs": [],
   "source": [
    "def PearsonMedianSkewness(xs):\n",
    "    median = Median(xs)\n",
    "    mean = RawMoment(xs, 1)\n",
    "    var = CentralMoment(xs, 2)\n",
    "    std = np.sqrt(var)\n",
    "    gp = 3 * (mean - median) / std\n",
    "    return gp"
   ]
  },
  {
   "cell_type": "code",
   "execution_count": 23,
   "id": "anticipated-drama",
   "metadata": {},
   "outputs": [],
   "source": [
    "def InterpolateSample(df, log_upper=6.0):\n",
    "    \"\"\"Makes a sample of log10 household income.\n",
    "\n",
    "    Assumes that log10 income is uniform in each range.\n",
    "\n",
    "    df: DataFrame with columns income and freq\n",
    "    log_upper: log10 of the assumed upper bound for the highest range\n",
    "\n",
    "    returns: NumPy array of log10 household income\n",
    "    \"\"\"\n",
    "    # compute the log10 of the upper bound for each range\n",
    "    df['log_upper'] = np.log10(df.income)\n",
    "\n",
    "    # get the lower bounds by shifting the upper bound and filling in\n",
    "    # the first element\n",
    "    df['log_lower'] = df.log_upper.shift(1)\n",
    "    df.loc[0, 'log_lower'] = 3.0\n",
    "\n",
    "    # plug in a value for the unknown upper bound of the highest range\n",
    "    df.loc[41, 'log_upper'] = log_upper\n",
    "    \n",
    "    # use the freq column to generate the right number of values in\n",
    "    # each range\n",
    "    arrays = []\n",
    "    for _, row in df.iterrows():\n",
    "        vals = np.linspace(row.log_lower, row.log_upper, int(row.freq))\n",
    "        arrays.append(vals)\n",
    "\n",
    "    # collect the arrays into a single sample\n",
    "    log_sample = np.concatenate(arrays)\n",
    "    return log_sample\n"
   ]
  },
  {
   "cell_type": "code",
   "execution_count": 24,
   "id": "coral-waterproof",
   "metadata": {},
   "outputs": [],
   "source": [
    "import hinc\n",
    "income_df = hinc.ReadData()"
   ]
  },
  {
   "cell_type": "code",
   "execution_count": 25,
   "id": "alone-better",
   "metadata": {},
   "outputs": [],
   "source": [
    "log_sample = InterpolateSample(income_df, log_upper=6.0)"
   ]
  },
  {
   "cell_type": "code",
   "execution_count": 26,
   "id": "accessory-fisher",
   "metadata": {},
   "outputs": [],
   "source": [
    "sample = np.power(10, log_sample)"
   ]
  },
  {
   "cell_type": "markdown",
   "id": "civil-special",
   "metadata": {},
   "source": [
    "Use book functions"
   ]
  },
  {
   "cell_type": "code",
   "execution_count": 27,
   "id": "lesser-winner",
   "metadata": {},
   "outputs": [
    {
     "data": {
      "text/plain": [
       "74278.70753118733"
      ]
     },
     "execution_count": 27,
     "metadata": {},
     "output_type": "execute_result"
    }
   ],
   "source": [
    "Mean(sample)"
   ]
  },
  {
   "cell_type": "code",
   "execution_count": 28,
   "id": "varying-candy",
   "metadata": {},
   "outputs": [
    {
     "data": {
      "text/plain": [
       "51226.45447894046"
      ]
     },
     "execution_count": 28,
     "metadata": {},
     "output_type": "execute_result"
    }
   ],
   "source": [
    "Median(sample)"
   ]
  },
  {
   "cell_type": "code",
   "execution_count": 29,
   "id": "stone-jesus",
   "metadata": {},
   "outputs": [
    {
     "data": {
      "text/plain": [
       "4.949920244429583"
      ]
     },
     "execution_count": 29,
     "metadata": {},
     "output_type": "execute_result"
    }
   ],
   "source": [
    "Skewness(sample)"
   ]
  },
  {
   "cell_type": "code",
   "execution_count": 30,
   "id": "plain-silicon",
   "metadata": {},
   "outputs": [
    {
     "data": {
      "text/plain": [
       "0.7361258019141782"
      ]
     },
     "execution_count": 30,
     "metadata": {},
     "output_type": "execute_result"
    }
   ],
   "source": [
    "PearsonMedianSkewness(sample)"
   ]
  },
  {
   "cell_type": "code",
   "execution_count": null,
   "id": "greatest-conservative",
   "metadata": {},
   "outputs": [],
   "source": []
  },
  {
   "cell_type": "code",
   "execution_count": 31,
   "id": "regulated-affiliate",
   "metadata": {},
   "outputs": [],
   "source": [
    "cdfPerson = thinkstats2.Cdf(sample)"
   ]
  },
  {
   "cell_type": "code",
   "execution_count": 32,
   "id": "explicit-module",
   "metadata": {},
   "outputs": [],
   "source": [
    "#print(cdfPerson)"
   ]
  },
  {
   "cell_type": "code",
   "execution_count": 33,
   "id": "valuable-occasions",
   "metadata": {},
   "outputs": [
    {
     "data": {
      "text/plain": [
       "{'xscale': 'linear', 'yscale': 'linear'}"
      ]
     },
     "execution_count": 33,
     "metadata": {},
     "output_type": "execute_result"
    },
    {
     "data": {
      "image/png": "[encoded data removed]",
      "text/plain": [
       "<Figure size 432x288 with 1 Axes>"
      ]
     },
     "metadata": {
      "needs_background": "light"
     },
     "output_type": "display_data"
    }
   ],
   "source": [
    "thinkplot.Cdf(cdfPerson)"
   ]
  },
  {
   "cell_type": "code",
   "execution_count": 34,
   "id": "charming-impossible",
   "metadata": {},
   "outputs": [],
   "source": [
    "#help(thinkstats2.Cdf)"
   ]
  },
  {
   "cell_type": "code",
   "execution_count": 35,
   "id": "separated-palestine",
   "metadata": {},
   "outputs": [
    {
     "data": {
      "text/plain": [
       "0.660005879566872"
      ]
     },
     "execution_count": 35,
     "metadata": {},
     "output_type": "execute_result"
    }
   ],
   "source": [
    "cdfPerson.Prob(Mean(sample))"
   ]
  },
  {
   "cell_type": "markdown",
   "id": "abstract-injury",
   "metadata": {},
   "source": [
    "About 66% make below the average salary"
   ]
  },
  {
   "cell_type": "code",
   "execution_count": 37,
   "id": "interesting-release",
   "metadata": {},
   "outputs": [
    {
     "data": {
      "text/plain": [
       "8.166065099870975e-06"
      ]
     },
     "execution_count": 37,
     "metadata": {},
     "output_type": "execute_result"
    }
   ],
   "source": [
    "#cdfPerson.Prob(min(sample))"
   ]
  },
  {
   "cell_type": "markdown",
   "id": "understanding-disclaimer",
   "metadata": {},
   "source": [
    "From the graph it looks your in the top %1 estimate at 300,000. If reading it right, the line length for the upper %1 look longer than where the average would be at 0.66, showint the wealth is shared more by the top 1%"
   ]
  }
 ],
 "metadata": {
  "kernelspec": {
   "display_name": "Python 3",
   "language": "python",
   "name": "python3"
  },
  "language_info": {
   "codemirror_mode": {
    "name": "ipython",
    "version": 3
   },
   "file_extension": ".py",
   "mimetype": "text/x-python",
   "name": "python",
   "nbconvert_exporter": "python",
   "pygments_lexer": "ipython3",
   "version": "3.7.10"
  }
 },
 "nbformat": 4,
 "nbformat_minor": 5
}
